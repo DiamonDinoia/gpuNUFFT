{
 "cells": [
  {
   "cell_type": "code",
   "execution_count": null,
   "metadata": {},
   "outputs": [],
   "source": [
    "import numpy as np\n",
    "import matplotlib.pyplot as plt\n",
    "import time\n",
    "\n",
    "from gpuNUFFT import NUFFTOp"
   ]
  },
  {
   "cell_type": "markdown",
   "metadata": {},
   "source": [
    "# Using NUFFTOp directly\n",
    "\n",
    "Samples should be in [-0.5, 0.5["
   ]
  },
  {
   "cell_type": "markdown",
   "metadata": {},
   "source": [
    "## 2D multi-coil tests"
   ]
  },
  {
   "cell_type": "markdown",
   "metadata": {},
   "source": [
    "### Preparing input data"
   ]
  },
  {
   "cell_type": "code",
   "execution_count": null,
   "metadata": {},
   "outputs": [],
   "source": [
    "res = [64, 128]\n",
    "[x, y] = np.meshgrid(np.linspace(-1, 1, res[0]),\n",
    "                        np.linspace(-1, 1, res[1]))\n",
    "img = (x**2 + y**2  < 0.5**2).T\n",
    "img = img.astype(np.complex64)\n",
    "print('Input image shape is', img.shape)\n",
    "sli = 18\n",
    "plt.figure(1)\n",
    "plt.imshow(abs(img[...]), cmap='gray')\n",
    "plt.title('image')\n",
    "\n",
    "n_samples = np.prod(res)\n",
    "kcoords = (np.random.uniform(size=(n_samples, 2)) -0.5).astype(np.float32)\n",
    "print('Input kcoords shape is', kcoords.shape)\n",
    "\n",
    "plt.figure(2)\n",
    "plt.plot(kcoords[:,0], kcoords[:,1], '.')\n",
    "plt.xlim([-0.6,0.6])\n",
    "plt.ylim([-0.6,0.6])\n",
    "plt.axis('square')\n",
    "plt.title('samples')\n",
    "\n",
    "weights = np.ones(kcoords.shape[0])\n",
    "print('Input weights shape is', weights.shape)"
   ]
  },
  {
   "cell_type": "code",
   "execution_count": null,
   "metadata": {},
   "outputs": [],
   "source": [
    "# Coil maps shape should be n_coils x res\n",
    "n_coils = 2\n",
    "coil_maps = np.ones([n_coils, *np.array(res).T], dtype=np.complex64)\n",
    "print('Input coil maps shape is', coil_maps.shape)"
   ]
  },
  {
   "cell_type": "markdown",
   "metadata": {},
   "source": [
    "### Applying nufft"
   ]
  },
  {
   "cell_type": "code",
   "execution_count": null,
   "metadata": {},
   "outputs": [],
   "source": [
    "wg = 3\n",
    "sw = 8\n",
    "osf = 2\n",
    "n_coils = 1\n",
    "balance_workload = True\n",
    "A = NUFFTOp(\n",
    "    np.reshape(kcoords, kcoords.shape[::-1], order='F'),\n",
    "    res,\n",
    "    coil_maps,\n",
    "    weights,\n",
    "    wg,\n",
    "    sw,\n",
    "    osf,\n",
    "    balance_workload,\n",
    ")\n",
    "x = A.op(np.reshape(img.T, img.size))\n",
    "print('Output kdata shape is', x.shape)\n",
    "img_adj = A.adj_op(x.reshape(-1)).T\n",
    "print('Output adjoint img shape is', img_adj.shape)\n",
    "img_adj = np.squeeze(img_adj)\n",
    "print(img_adj.shape)\n",
    "\n",
    "sli = 18\n",
    "plt.figure(3)\n",
    "plt.imshow(abs(img_adj), cmap='gray')\n",
    "plt.title('adjoint image')\n",
    "\n",
    "del A"
   ]
  },
  {
   "cell_type": "markdown",
   "metadata": {},
   "source": [
    "## 3D multi-coil tests"
   ]
  },
  {
   "cell_type": "markdown",
   "metadata": {},
   "source": [
    "### Preparing input data"
   ]
  },
  {
   "cell_type": "code",
   "execution_count": null,
   "metadata": {},
   "outputs": [],
   "source": [
    "res = [64, 64, 32]\n",
    "[x, y, z] = np.meshgrid(np.linspace(-1, 1, res[0]),\n",
    "                        np.linspace(-1, 1, res[1]),\n",
    "                        np.linspace(-1, 1, res[2]))\n",
    "img = (x**2 + y**2 + z**2 < 0.5**2).transpose([1, 0, 2])\n",
    "print('Input image shape is', img.shape)\n",
    "\n",
    "sli = img.shape[-1] // 2\n",
    "plt.figure(1)\n",
    "plt.imshow(img[..., sli], cmap='gray'),\n",
    "plt.title('image')\n",
    "\n",
    "n_samples = np.prod(res) // 4\n",
    "kcoords =  (np.random.uniform(size=(n_samples, 3)) -0.5)\n",
    "print('Input samples shape is', kcoords.shape)\n",
    "\n",
    "plt.figure(2)\n",
    "plt.plot(kcoords[:,1], kcoords[:,2], '.')\n",
    "plt.xlim([-0.6, 0.6])\n",
    "plt.ylim([-0.6, 0.6])\n",
    "plt.axis('square')\n",
    "plt.title('samples')\n",
    "\n",
    "weights = np.ones(kcoords.shape[0])\n",
    "print('Input weights shape is', weights.shape)"
   ]
  },
  {
   "cell_type": "code",
   "execution_count": null,
   "metadata": {},
   "outputs": [],
   "source": [
    "# Coil maps shape should be n_coils x res\n",
    "n_coils = 8\n",
    "coil_maps = np.ones([n_coils, *np.array(res).T], dtype=np.complex64)\n",
    "print('Input coil maps shape is', coil_maps.shape)"
   ]
  },
  {
   "cell_type": "markdown",
   "metadata": {},
   "source": [
    "### Applying multi-coil nufft"
   ]
  },
  {
   "cell_type": "code",
   "execution_count": null,
   "metadata": {},
   "outputs": [],
   "source": [
    "wg = 3\n",
    "sw = 8\n",
    "osf = 2\n",
    "time0 = time.time()\n",
    "n_coils = 1\n",
    "A = NUFFTOp(\n",
    "    np.reshape(kcoords, kcoords.shape[::-1], order='F'),\n",
    "    res,\n",
    "    coil_maps,\n",
    "    weights,\n",
    "    wg,\n",
    "    sw,\n",
    "    osf,\n",
    "    True,\n",
    ")\n",
    "print('time of NUFFT instantiation = {} seconds'.format(time.time() - time0))\n",
    "\n",
    "time1 = time.time()\n",
    "x = A.op(np.reshape(img.T, img.size))\n",
    "print('time of forward op = {} seconds'.format(time.time() - time1))\n",
    "\n",
    "print('Output kdata shape is', x.shape)\n",
    "\n",
    "time2 = time.time()\n",
    "img_back = np.squeeze(A.adj_op(x).T)\n",
    "print('time of adj op = {}'.format(time.time() - time2))\n",
    "\n",
    "print('Output adjoint image shape is', img_back.shape)\n",
    "\n",
    "del A\n",
    "\n",
    "fig, axs = plt.subplots(nrows=1, ncols=2)\n",
    "axs[0].imshow(abs(img_back[..., res[2] // 2]), aspect='equal', cmap='gray')\n",
    "axs[1].imshow(abs(img_back[res[0] // 2, ...]), aspect='equal', cmap='gray')"
   ]
  },
  {
   "cell_type": "code",
   "execution_count": null,
   "metadata": {},
   "outputs": [],
   "source": []
  }
 ],
 "metadata": {
  "kernelspec": {
   "display_name": "Python (hri new)",
   "language": "python",
   "name": "hri"
  },
  "language_info": {
   "codemirror_mode": {
    "name": "ipython",
    "version": 3
   },
   "file_extension": ".py",
   "mimetype": "text/x-python",
   "name": "python",
   "nbconvert_exporter": "python",
   "pygments_lexer": "ipython3",
   "version": "3.5.4"
  }
 },
 "nbformat": 4,
 "nbformat_minor": 2
}
